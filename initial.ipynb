{
 "cells": [
  {
   "cell_type": "markdown",
   "id": "75a7d850-21c2-4375-94a7-ed9d33912c12",
   "metadata": {},
   "source": [
    "<center><h1><b>PROJECT</b></h1></center>"
   ]
  },
  {
   "cell_type": "markdown",
   "id": "a32f93b4-0428-4a40-bfaa-e22cc56ea031",
   "metadata": {},
   "source": [
    "---"
   ]
  },
  {
   "cell_type": "markdown",
   "id": "d218a420-89a3-4505-9127-dd482538ff0f",
   "metadata": {},
   "source": [
    "## GUTHENBERG-RICHTER LAW \n",
    "(see wikipedia for more)  \n",
    "In seismology, the Gutenberg–Richter law[1] (GR law) expresses the relationship between the magnitude and total number of earthquakes in any given region and time period of at least that magnitude.\n",
    "$$ log_{10} ⁡ N = a − b \\cdot M $$\n",
    "\n",
    "where N is the number of events having a magnitude ≥ M, a and b are constants, i.e. they are the same for all values of N and M.\n",
    "This relationship between event magnitude and frequency of occurrence is remarkably common, although the values of a and b may vary significantly from region to region or over time.   \n",
    "Some generalization of this formula have been made.\n",
    "\n",
    "#### PARAMETER b\n",
    "The parameter b (commonly referred to as the \"b-value\") is commonly close to 1.0 in seismically active regions. This means that for a given frequency of magnitude 4.0 or larger events there will be 10 times as many magnitude 3.0 or larger quakes and 100 times as many magnitude 2.0 or larger quakes. There is some variation of b-values in the approximate range of 0.5 to 2 depending on the source environment of the region.[5] A notable example of this is during earthquake swarms when b can become as high as 2.5, thus indicating a very high proportion of small earthquakes to large ones. An earthquake swarm is a sequence of seismic events occurring in a local area within a relatively short period. The time span used to define a swarm varies, but may be days, months, or years. Such an energy release is different from the situation when a major earthquake (main shock) is followed by a series of aftershocks: in earthquake swarms, no single earthquake in the sequence is obviously the main shock. In particular, a cluster of aftershocks occurring after a mainshock is not a swarm. The b-value decrease observed prior to the failure of samples deformed in the laboratory[10] has led to the suggestion that this is a precursor to major macro-failure. Alternatively, a b-value significantly different from 1.0 may suggest a problem with the data set; e.g. it is incomplete or contains errors in calculating magnitude. \n",
    "\n",
    "#### PARAMETER a\n",
    "The a-value represents the total seismicity rate of the region. This is more easily seen when the GR law is expressed in terms of the total number of events: \n",
    "$$ N = N_{TOT} \\cdot 10^{-bM} $$ \n",
    "with $N_{TOT} = 10^{a}$ the total number of events (above M=0). Since $10^{a}$ is the total number of events, $10^{-bM}$ must be the probability of those events. \n",
    "\n",
    "#### OTHER MODELS\n",
    "The basic model is the Gutenberg Richter\n",
    "(GR) model that states the frequency’s logarithm is linearly\n",
    "dependent on the magnitude. However, Dargahi-Noubary\n",
    "(1986) and Kagan (1993) suggest that more suitable sta-\n",
    "tistical models should be used instead of the GR model for\n",
    "the distribution with high magnitudes. Petersen et al. (2007)\n",
    "proposed a time-independent model showing that the prob-\n",
    "ability of earthquake occurrence follows the Poisson dis-\n",
    "tribution. Considering the time of earthquakes, stochastic\n",
    "processes, especially Poisson processes, have also been used\n",
    "to predict the number of earthquakes. However, the Poisson\n",
    "model cannot be sufficient since it has an exponential recur-\n",
    "rence time distribution and a constant hazard function. This\n",
    "assumes that the probability of observing an earthquake at\n",
    "any given time is independent of both elapsed time since\n",
    "the last earthquake and its severity. This assumption leads\n",
    "only to time-independent seismic hazard estimates. Besides,\n",
    "earthquakes are clustered in time and space and their distri-\n",
    "bution is over-dispersed compared to the Poisson law. [5]\n",
    "\n",
    "In recent times, taking into account the seasonality and\n",
    "trends of earthquakes, the prediction of the size or mag-\n",
    "nitude has been performed in a few studies by time series\n",
    "models such as Auto-Regressive Integrated Moving Aver-\n",
    "age (ARIMA) and generalized autoregressive conditional\n",
    "heteroskedasticity (GARCH).\n",
    "\n",
    "a NEW BETTER MODEL IS The SSA is a nonparametric\n",
    "novel and powerful time series analysis technique incorpo-\n",
    "rating classical time series analysis, multivariate statistics,\n",
    "multivariate geometry, dynamical systems, and signal pro-\n",
    "cessing. This new method can be useful for the prediction of\n",
    "the earthquake magnitude in a seismic region.\n",
    "\n",
    "#### ARIMA MODEL\n",
    "ARIMA, also known as Box-Jenkins models, is divided into\n",
    "seasonal and non-seasonal models. Non-seasonal Box-Jenkins\n",
    "models are generally shown as ARIMA (p, d, q), where\n",
    "p is the parameter of the autoregression (AR) model, d is\n",
    "the number of difference procedure, and q is the parameter\n",
    "of the moving average (MA) model. To perform the analysis processes of the Box-Jenkins\n",
    "method, first, care should be taken to ensure that the series\n",
    "is free of trend and seasonal fluctuations, that is, the series\n",
    "should be stationary. Then, determine the p and q param-\n",
    "eters depending on the autocorrelation function and the par-\n",
    "tial autocorrelation function graphs and control the model \n",
    "parameters’ significance. Lastly, the root mean square error\n",
    "criterion (RMSE) is used to selects the best model among\n",
    "the models having the white noise error series"
   ]
  },
  {
   "cell_type": "markdown",
   "id": "7c3fd635-167f-4a0d-9506-db0f2c63ad1f",
   "metadata": {},
   "source": [
    "---"
   ]
  },
  {
   "cell_type": "markdown",
   "id": "0d1e67d9-633f-4e11-8361-d4eeed36105b",
   "metadata": {},
   "source": [
    "## LOADING DATA\n",
    "We took the data from https://earthquake.usgs.gov/ in two parts because there was a limit in the download size."
   ]
  },
  {
   "cell_type": "code",
   "execution_count": 7,
   "id": "beaa3fac-44cf-4921-8882-3a1d5fa2d41e",
   "metadata": {},
   "outputs": [
    {
     "name": "stdout",
     "output_type": "stream",
     "text": [
      "The 1st database has  13988  rows \n",
      "The 2nd database has  14850  rows \n",
      "The final database has  28838  rows \n"
     ]
    }
   ],
   "source": [
    "df1 = read.table(\"./data/earthquakes_years_2000_2025.csv\", header=TRUE, sep=',')\n",
    "df2 = read.table(\"./data/earthquakes_years_1925_2000.csv\", header=TRUE, sep=',')\n",
    "cat(\"The 1st database has \", nrow(df1), \" rows\", \"\\n\")\n",
    "cat(\"The 2nd database has \", nrow(df2), \" rows\", \"\\n\")\n",
    "df = rbind(df1, df2)\n",
    "cat(\"The final database has \", nrow(df), \" rows\", \"\\n\")"
   ]
  },
  {
   "cell_type": "markdown",
   "id": "0799c318-c994-49df-a7b1-595815c66ef9",
   "metadata": {},
   "source": [
    "Let's see the column names:"
   ]
  },
  {
   "cell_type": "code",
   "execution_count": 9,
   "id": "4222ff5f-a60f-4719-b730-a588eff22fd7",
   "metadata": {},
   "outputs": [
    {
     "data": {
      "text/html": [
       "<style>\n",
       ".list-inline {list-style: none; margin:0; padding: 0}\n",
       ".list-inline>li {display: inline-block}\n",
       ".list-inline>li:not(:last-child)::after {content: \"\\00b7\"; padding: 0 .5ex}\n",
       "</style>\n",
       "<ol class=list-inline><li>'time'</li><li>'latitude'</li><li>'longitude'</li><li>'depth'</li><li>'mag'</li><li>'magType'</li><li>'nst'</li><li>'gap'</li><li>'dmin'</li><li>'rms'</li><li>'net'</li><li>'id'</li><li>'updated'</li><li>'place'</li><li>'type'</li><li>'horizontalError'</li><li>'depthError'</li><li>'magError'</li><li>'magNst'</li><li>'status'</li><li>'locationSource'</li><li>'magSource'</li></ol>\n"
      ],
      "text/latex": [
       "\\begin{enumerate*}\n",
       "\\item 'time'\n",
       "\\item 'latitude'\n",
       "\\item 'longitude'\n",
       "\\item 'depth'\n",
       "\\item 'mag'\n",
       "\\item 'magType'\n",
       "\\item 'nst'\n",
       "\\item 'gap'\n",
       "\\item 'dmin'\n",
       "\\item 'rms'\n",
       "\\item 'net'\n",
       "\\item 'id'\n",
       "\\item 'updated'\n",
       "\\item 'place'\n",
       "\\item 'type'\n",
       "\\item 'horizontalError'\n",
       "\\item 'depthError'\n",
       "\\item 'magError'\n",
       "\\item 'magNst'\n",
       "\\item 'status'\n",
       "\\item 'locationSource'\n",
       "\\item 'magSource'\n",
       "\\end{enumerate*}\n"
      ],
      "text/markdown": [
       "1. 'time'\n",
       "2. 'latitude'\n",
       "3. 'longitude'\n",
       "4. 'depth'\n",
       "5. 'mag'\n",
       "6. 'magType'\n",
       "7. 'nst'\n",
       "8. 'gap'\n",
       "9. 'dmin'\n",
       "10. 'rms'\n",
       "11. 'net'\n",
       "12. 'id'\n",
       "13. 'updated'\n",
       "14. 'place'\n",
       "15. 'type'\n",
       "16. 'horizontalError'\n",
       "17. 'depthError'\n",
       "18. 'magError'\n",
       "19. 'magNst'\n",
       "20. 'status'\n",
       "21. 'locationSource'\n",
       "22. 'magSource'\n",
       "\n",
       "\n"
      ],
      "text/plain": [
       " [1] \"time\"            \"latitude\"        \"longitude\"       \"depth\"          \n",
       " [5] \"mag\"             \"magType\"         \"nst\"             \"gap\"            \n",
       " [9] \"dmin\"            \"rms\"             \"net\"             \"id\"             \n",
       "[13] \"updated\"         \"place\"           \"type\"            \"horizontalError\"\n",
       "[17] \"depthError\"      \"magError\"        \"magNst\"          \"status\"         \n",
       "[21] \"locationSource\"  \"magSource\"      "
      ]
     },
     "metadata": {},
     "output_type": "display_data"
    }
   ],
   "source": [
    "names(df)"
   ]
  },
  {
   "cell_type": "markdown",
   "id": "f29b8e6a-8ce7-4ebe-bf35-b61bd59e24e7",
   "metadata": {},
   "source": [
    "Meaning of the less obvious comlumns:\n",
    "* depth: Depth of the earthquake in kilometers (km).\n",
    "* mag: Magnitude of the earthquake\n",
    "* magType: Type of magnitude used. (maybe we should confront only earthquake with same magtype?)\n",
    "* nst: Number of seismic stations that reported the event.\n",
    "* gap: Largest azimuthal gap in station coverage (degrees).\n",
    "* dmin: Distance to the nearest station (in degrees).\n",
    "* rms: Root mean square of the travel time residuals (in seconds).\n",
    "* net: Network that detected the event (e.g., us, ci, hv). It identifies the organization or seismic network responsible.\n",
    "* id: The unique identifier for the earthquake event. It’s usually a string combining the net code and a unique event code.\n",
    "* updated: Time the event information was last updated.\n",
    "* place: Human-readable location (e.g., \"10km SE of Town X\").\n",
    "* type: Type of seismic event (earthquake, quarry blast, etc.). But I only downloaded earthquakes so this column should be useless.\n",
    "* horizontalError: Horizontal location error (in km or m).\n",
    "* depthError: Error estimate for the depth (in km).\n",
    "* magError: Error estimate for the magnitude.\n",
    "* magNst: Number of stations used for magnitude calculation.\n",
    "* status: Review status of the event (reviewed, automatic). It means whether the data has been automatically generated or manually reviewed by a seismologist.\n",
    "* locationSource: Agency that determined the location.\n",
    "* magSource: Agency that determined the magnitude."
   ]
  },
  {
   "cell_type": "code",
   "execution_count": null,
   "id": "a3ac6f11-761a-4c1e-95a8-6a5178e8525e",
   "metadata": {},
   "outputs": [],
   "source": []
  },
  {
   "cell_type": "code",
   "execution_count": null,
   "id": "62aee2b1-26be-48ac-8b47-f9b3dabf7207",
   "metadata": {},
   "outputs": [],
   "source": []
  },
  {
   "cell_type": "code",
   "execution_count": null,
   "id": "19132b9b-1a46-4bdd-af70-37eec8eed424",
   "metadata": {},
   "outputs": [],
   "source": []
  },
  {
   "cell_type": "code",
   "execution_count": null,
   "id": "14338842-4399-495b-b4c8-63de88e592b8",
   "metadata": {},
   "outputs": [],
   "source": []
  },
  {
   "cell_type": "code",
   "execution_count": null,
   "id": "5deb468b-8373-4230-b19b-33291c2988f2",
   "metadata": {},
   "outputs": [],
   "source": []
  },
  {
   "cell_type": "code",
   "execution_count": null,
   "id": "0dec7109-5690-4861-ba43-5427a3b649e8",
   "metadata": {},
   "outputs": [],
   "source": []
  }
 ],
 "metadata": {
  "kernelspec": {
   "display_name": "R",
   "language": "R",
   "name": "ir"
  },
  "language_info": {
   "codemirror_mode": "r",
   "file_extension": ".r",
   "mimetype": "text/x-r-source",
   "name": "R",
   "pygments_lexer": "r",
   "version": "4.3.1"
  }
 },
 "nbformat": 4,
 "nbformat_minor": 5
}
