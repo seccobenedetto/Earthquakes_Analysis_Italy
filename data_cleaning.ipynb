{
 "cells": [
  {
   "cell_type": "markdown",
   "id": "75a7d850-21c2-4375-94a7-ed9d33912c12",
   "metadata": {},
   "source": [
    "<center><h1><b>PROJECT</b></h1></center>"
   ]
  },
  {
   "cell_type": "code",
   "execution_count": 1,
   "id": "d1a28626-0eb4-4360-b0eb-bb8497d6084c",
   "metadata": {},
   "outputs": [
    {
     "name": "stderr",
     "output_type": "stream",
     "text": [
      "Warning message:\n",
      "“il pacchetto ‘ggplot2’ è stato creato con R versione 4.4.3”\n"
     ]
    }
   ],
   "source": [
    "library(ggplot2)"
   ]
  },
  {
   "cell_type": "markdown",
   "id": "a32f93b4-0428-4a40-bfaa-e22cc56ea031",
   "metadata": {},
   "source": [
    "---"
   ]
  },
  {
   "cell_type": "markdown",
   "id": "d218a420-89a3-4505-9127-dd482538ff0f",
   "metadata": {},
   "source": [
    "## GUTHENBERG-RICHTER LAW \n",
    "(see wikipedia for more)  \n",
    "In seismology, the Gutenberg–Richter law[1] (GR law) expresses the relationship between the magnitude and total number of earthquakes in any given region and time period of at least that magnitude.\n",
    "$$ log_{10} ⁡ N = a − b \\cdot M $$\n",
    "\n",
    "where N is the number of events having a magnitude ≥ M, a and b are constants, i.e. they are the same for all values of N and M.\n",
    "This relationship between event magnitude and frequency of occurrence is remarkably common, although the values of a and b may vary significantly from region to region or over time.   \n",
    "Some generalization of this formula have been made.\n",
    "\n",
    "#### PARAMETER b\n",
    "The parameter b (commonly referred to as the \"b-value\") is commonly close to 1.0 in seismically active regions. This means that for a given frequency of magnitude 4.0 or larger events there will be 10 times as many magnitude 3.0 or larger quakes and 100 times as many magnitude 2.0 or larger quakes. There is some variation of b-values in the approximate range of 0.5 to 2 depending on the source environment of the region.[5] A notable example of this is during earthquake swarms when b can become as high as 2.5, thus indicating a very high proportion of small earthquakes to large ones. An earthquake swarm is a sequence of seismic events occurring in a local area within a relatively short period. The time span used to define a swarm varies, but may be days, months, or years. Such an energy release is different from the situation when a major earthquake (main shock) is followed by a series of aftershocks: in earthquake swarms, no single earthquake in the sequence is obviously the main shock. In particular, a cluster of aftershocks occurring after a mainshock is not a swarm. The b-value decrease observed prior to the failure of samples deformed in the laboratory[10] has led to the suggestion that this is a precursor to major macro-failure. Alternatively, a b-value significantly different from 1.0 may suggest a problem with the data set; e.g. it is incomplete or contains errors in calculating magnitude. \n",
    "\n",
    "#### PARAMETER a\n",
    "The a-value represents the total seismicity rate of the region. This is more easily seen when the GR law is expressed in terms of the total number of events: \n",
    "$$ N = N_{TOT} \\cdot 10^{-bM} $$ \n",
    "with $N_{TOT} = 10^{a}$ the total number of events (above M=0). Since $10^{a}$ is the total number of events, $10^{-bM}$ must be the probability of those events. \n",
    "\n",
    "#### OTHER MODELS\n",
    "The basic model is the Gutenberg Richter\n",
    "(GR) model that states the frequency’s logarithm is linearly\n",
    "dependent on the magnitude. However, Dargahi-Noubary\n",
    "(1986) and Kagan (1993) suggest that more suitable sta-\n",
    "tistical models should be used instead of the GR model for\n",
    "the distribution with high magnitudes. Petersen et al. (2007)\n",
    "proposed a time-independent model showing that the prob-\n",
    "ability of earthquake occurrence follows the Poisson dis-\n",
    "tribution. Considering the time of earthquakes, stochastic\n",
    "processes, especially Poisson processes, have also been used\n",
    "to predict the number of earthquakes. However, the Poisson\n",
    "model cannot be sufficient since it has an exponential recur-\n",
    "rence time distribution and a constant hazard function. This\n",
    "assumes that the probability of observing an earthquake at\n",
    "any given time is independent of both elapsed time since\n",
    "the last earthquake and its severity. This assumption leads\n",
    "only to time-independent seismic hazard estimates. Besides,\n",
    "earthquakes are clustered in time and space and their distri-\n",
    "bution is over-dispersed compared to the Poisson law. [5]\n",
    "\n",
    "In recent times, taking into account the seasonality and\n",
    "trends of earthquakes, the prediction of the size or mag-\n",
    "nitude has been performed in a few studies by time series\n",
    "models such as Auto-Regressive Integrated Moving Aver-\n",
    "age (ARIMA) and generalized autoregressive conditional\n",
    "heteroskedasticity (GARCH).\n",
    "\n",
    "a NEW BETTER MODEL IS The SSA is a nonparametric\n",
    "novel and powerful time series analysis technique incorpo-\n",
    "rating classical time series analysis, multivariate statistics,\n",
    "multivariate geometry, dynamical systems, and signal pro-\n",
    "cessing. This new method can be useful for the prediction of\n",
    "the earthquake magnitude in a seismic region.\n",
    "\n",
    "#### ARIMA MODEL\n",
    "ARIMA, also known as Box-Jenkins models, is divided into\n",
    "seasonal and non-seasonal models. Non-seasonal Box-Jenkins\n",
    "models are generally shown as ARIMA (p, d, q), where\n",
    "p is the parameter of the autoregression (AR) model, d is\n",
    "the number of difference procedure, and q is the parameter\n",
    "of the moving average (MA) model. To perform the analysis processes of the Box-Jenkins\n",
    "method, first, care should be taken to ensure that the series\n",
    "is free of trend and seasonal fluctuations, that is, the series\n",
    "should be stationary. Then, determine the p and q param-\n",
    "eters depending on the autocorrelation function and the par-\n",
    "tial autocorrelation function graphs and control the model \n",
    "parameters’ significance. Lastly, the root mean square error\n",
    "criterion (RMSE) is used to selects the best model among\n",
    "the models having the white noise error series"
   ]
  },
  {
   "cell_type": "markdown",
   "id": "7c3fd635-167f-4a0d-9506-db0f2c63ad1f",
   "metadata": {},
   "source": [
    "---"
   ]
  },
  {
   "cell_type": "markdown",
   "id": "0d1e67d9-633f-4e11-8361-d4eeed36105b",
   "metadata": {},
   "source": [
    "## LOADING AND CLEANING DATA DATA\n",
    "We took the data from https://earthquake.usgs.gov/ in two parts because there was a limit in the download size."
   ]
  },
  {
   "cell_type": "code",
   "execution_count": 2,
   "id": "beaa3fac-44cf-4921-8882-3a1d5fa2d41e",
   "metadata": {},
   "outputs": [
    {
     "name": "stdout",
     "output_type": "stream",
     "text": [
      "The 1st database has  13988  rows \n",
      "The 2nd database has  14850  rows \n",
      "The final database has  28838  rows \n"
     ]
    }
   ],
   "source": [
    "df1 = read.table(\"./data/earthquakes_years_2000_2025.csv\", header=TRUE, sep=',')\n",
    "df2 = read.table(\"./data/earthquakes_years_1925_2000.csv\", header=TRUE, sep=',')\n",
    "cat(\"The 1st database has \", nrow(df1), \" rows\", \"\\n\")\n",
    "cat(\"The 2nd database has \", nrow(df2), \" rows\", \"\\n\")\n",
    "df = rbind(df1, df2)\n",
    "cat(\"The final database has \", nrow(df), \" rows\", \"\\n\")"
   ]
  },
  {
   "cell_type": "markdown",
   "id": "f29b8e6a-8ce7-4ebe-bf35-b61bd59e24e7",
   "metadata": {},
   "source": [
    "Meaning of the less obvious comlumns:\n",
    "* depth: Depth of the earthquake in kilometers (km).\n",
    "* mag: Magnitude of the earthquake\n",
    "* magType: Type of magnitude used. (maybe we should confront only earthquake with same magtype?)\n",
    "* nst: Number of seismic stations that reported the event.\n",
    "* gap: Largest azimuthal gap in station coverage (degrees).\n",
    "* dmin: Distance to the nearest station (in degrees).\n",
    "* rms: Root mean square of the travel time residuals (in seconds).\n",
    "* net: Network that detected the event (e.g., us, ci, hv). It identifies the organization or seismic network responsible.\n",
    "* id: The unique identifier for the earthquake event. It’s usually a string combining the net code and a unique event code.\n",
    "* updated: Time the event information was last updated.\n",
    "* place: Human-readable location (e.g., \"10km SE of Town X\").\n",
    "* type: Type of seismic event (earthquake, quarry blast, etc.). But I only downloaded earthquakes so this column should be useless.\n",
    "* horizontalError: Horizontal location error (in km or m).\n",
    "* depthError: Error estimate for the depth (in km).\n",
    "* magError: Error estimate for the magnitude.\n",
    "* magNst: Number of stations used for magnitude calculation.\n",
    "* status: Review status of the event (reviewed, automatic). It means whether the data has been automatically generated or manually reviewed by a seismologist.\n",
    "* locationSource: Agency that determined the location.\n",
    "* magSource: Agency that determined the magnitude."
   ]
  },
  {
   "cell_type": "markdown",
   "id": "d9a9b737-bb5f-43a1-8bf8-b7effcab8bc4",
   "metadata": {},
   "source": [
    "Convert the time column to Date format:"
   ]
  },
  {
   "cell_type": "code",
   "execution_count": 3,
   "id": "1086bc75-01ba-4664-9546-d829621c249e",
   "metadata": {},
   "outputs": [],
   "source": [
    "df$time <- as.POSIXct(df$time, format = \"%Y-%m-%dT%H:%M:%OSZ\", tz = \"UTC\")"
   ]
  },
  {
   "cell_type": "code",
   "execution_count": 4,
   "id": "cc284c2a-4649-4955-8265-03bda9555c80",
   "metadata": {},
   "outputs": [
    {
     "data": {
      "text/plain": [
       "      time                            latitude       longitude    \n",
       " Min.   :1925-02-07 12:14:58.150   Min.   :35.61   Min.   : 4.66  \n",
       " 1st Qu.:1990-07-11 12:17:33.473   1st Qu.:39.37   1st Qu.:10.98  \n",
       " Median :1999-06-07 03:23:02.495   Median :42.74   Median :15.27  \n",
       " Mean   :1997-09-22 00:29:15.603   Mean   :42.17   Mean   :14.92  \n",
       " 3rd Qu.:2004-10-01 01:05:55.349   3rd Qu.:44.44   3rd Qu.:20.01  \n",
       " Max.   :2025-06-24 03:04:54.730   Max.   :47.76   Max.   :20.87  \n",
       "                                                                  \n",
       "     depth             mag          magType               nst        \n",
       " Min.   : -2.00   Min.   :2.500   Length:28838       Min.   :  0.00  \n",
       " 1st Qu.:  8.60   1st Qu.:2.700   Class :character   1st Qu.:  7.00  \n",
       " Median : 10.00   Median :3.100   Mode  :character   Median : 14.00  \n",
       " Mean   : 15.02   Mean   :3.284                      Mean   : 30.35  \n",
       " 3rd Qu.: 10.00   3rd Qu.:3.600                      3rd Qu.: 35.00  \n",
       " Max.   :522.00   Max.   :7.000                      Max.   :729.00  \n",
       "                                                     NA's   :16493   \n",
       "      gap             dmin            rms            net           \n",
       " Min.   :  6.5   Min.   :0.014   Min.   :0.000   Length:28838      \n",
       " 1st Qu.: 73.0   1st Qu.:0.571   1st Qu.:0.760   Class :character  \n",
       " Median :127.5   Median :1.003   Median :1.000   Mode  :character  \n",
       " Mean   :132.8   Mean   :1.135   Mean   :0.969                     \n",
       " 3rd Qu.:179.8   3rd Qu.:1.586   3rd Qu.:1.200                     \n",
       " Max.   :349.4   Max.   :5.416   Max.   :2.400                     \n",
       " NA's   :18768   NA's   :27565   NA's   :12776                     \n",
       "      id              updated             place               type          \n",
       " Length:28838       Length:28838       Length:28838       Length:28838      \n",
       " Class :character   Class :character   Class :character   Class :character  \n",
       " Mode  :character   Mode  :character   Mode  :character   Mode  :character  \n",
       "                                                                            \n",
       "                                                                            \n",
       "                                                                            \n",
       "                                                                            \n",
       " horizontalError    depthError        magError         magNst      \n",
       " Min.   : 0.000   Min.   : 0.000   Min.   :0.032   Min.   :  1.00  \n",
       " 1st Qu.: 4.000   1st Qu.: 2.000   1st Qu.:0.083   1st Qu.:  2.00  \n",
       " Median : 4.900   Median : 3.600   Median :0.153   Median :  6.00  \n",
       " Mean   : 4.934   Mean   : 4.398   Mean   :0.163   Mean   : 13.95  \n",
       " 3rd Qu.: 5.800   3rd Qu.: 5.600   3rd Qu.:0.202   3rd Qu.: 17.00  \n",
       " Max.   :15.200   Max.   :44.500   Max.   :0.790   Max.   :285.00  \n",
       " NA's   :27512    NA's   :24877    NA's   :27119   NA's   :24603   \n",
       "    status          locationSource      magSource        \n",
       " Length:28838       Length:28838       Length:28838      \n",
       " Class :character   Class :character   Class :character  \n",
       " Mode  :character   Mode  :character   Mode  :character  \n",
       "                                                         \n",
       "                                                         \n",
       "                                                         \n",
       "                                                         "
      ]
     },
     "metadata": {},
     "output_type": "display_data"
    }
   ],
   "source": [
    "summary(df)"
   ]
  },
  {
   "cell_type": "code",
   "execution_count": 7,
   "id": "1941acbe-35df-4561-afce-0f6558479e12",
   "metadata": {},
   "outputs": [
    {
     "data": {
      "text/html": [
       "<table class=\"dataframe\">\n",
       "<caption>A data.frame: 10 × 22</caption>\n",
       "<thead>\n",
       "\t<tr><th></th><th scope=col>time</th><th scope=col>latitude</th><th scope=col>longitude</th><th scope=col>depth</th><th scope=col>mag</th><th scope=col>magType</th><th scope=col>nst</th><th scope=col>gap</th><th scope=col>dmin</th><th scope=col>rms</th><th scope=col>⋯</th><th scope=col>updated</th><th scope=col>place</th><th scope=col>type</th><th scope=col>horizontalError</th><th scope=col>depthError</th><th scope=col>magError</th><th scope=col>magNst</th><th scope=col>status</th><th scope=col>locationSource</th><th scope=col>magSource</th></tr>\n",
       "\t<tr><th></th><th scope=col>&lt;dttm&gt;</th><th scope=col>&lt;dbl&gt;</th><th scope=col>&lt;dbl&gt;</th><th scope=col>&lt;dbl&gt;</th><th scope=col>&lt;dbl&gt;</th><th scope=col>&lt;chr&gt;</th><th scope=col>&lt;int&gt;</th><th scope=col>&lt;dbl&gt;</th><th scope=col>&lt;dbl&gt;</th><th scope=col>&lt;dbl&gt;</th><th scope=col>⋯</th><th scope=col>&lt;chr&gt;</th><th scope=col>&lt;chr&gt;</th><th scope=col>&lt;chr&gt;</th><th scope=col>&lt;dbl&gt;</th><th scope=col>&lt;dbl&gt;</th><th scope=col>&lt;dbl&gt;</th><th scope=col>&lt;int&gt;</th><th scope=col>&lt;chr&gt;</th><th scope=col>&lt;chr&gt;</th><th scope=col>&lt;chr&gt;</th></tr>\n",
       "</thead>\n",
       "<tbody>\n",
       "\t<tr><th scope=row>1</th><td>2025-06-24 03:04:54</td><td>41.4136</td><td>19.5656</td><td>10.000</td><td>4.2</td><td>mb </td><td>41</td><td> 56</td><td>0.233</td><td>0.98</td><td>⋯</td><td>2025-06-24T08:13:22.962Z</td><td>7 km N of Shijak, Albania                  </td><td>earthquake</td><td>4.47</td><td> 1.932</td><td>0.110</td><td>23</td><td>reviewed</td><td>us</td><td>us</td></tr>\n",
       "\t<tr><th scope=row>2</th><td>2025-06-21 14:56:54</td><td>38.0214</td><td>20.2244</td><td>53.184</td><td>4.2</td><td>mb </td><td>20</td><td>124</td><td>1.591</td><td>0.98</td><td>⋯</td><td>2025-06-21T15:51:45.040Z</td><td>27 km SW of Lixoúri, Greece                </td><td>earthquake</td><td>2.82</td><td>12.614</td><td>0.200</td><td> 9</td><td>reviewed</td><td>us</td><td>us</td></tr>\n",
       "\t<tr><th scope=row>3</th><td>2025-06-21 13:25:52</td><td>37.9115</td><td>20.1867</td><td>10.000</td><td>4.5</td><td>mb </td><td>41</td><td>107</td><td>1.563</td><td>1.14</td><td>⋯</td><td>2025-06-22T11:05:17.735Z</td><td>38 km SW of Lixoúri, Greece                </td><td>earthquake</td><td>6.06</td><td> 1.895</td><td>0.079</td><td>47</td><td>reviewed</td><td>us</td><td>us</td></tr>\n",
       "\t<tr><th scope=row>4</th><td>2025-06-01 16:44:09</td><td>43.1747</td><td>17.9562</td><td>10.000</td><td>4.0</td><td>mb </td><td>49</td><td> 31</td><td>1.215</td><td>0.68</td><td>⋯</td><td>2025-06-22T16:37:44.040Z</td><td>8 km ENE of Crnići, Bosnia and Herzegovina </td><td>earthquake</td><td>5.05</td><td> 1.931</td><td>0.150</td><td>12</td><td>reviewed</td><td>us</td><td>us</td></tr>\n",
       "\t<tr><th scope=row>5</th><td>2025-05-22 22:52:00</td><td>42.5041</td><td>18.3603</td><td>10.000</td><td>4.0</td><td>mb </td><td>33</td><td> 42</td><td>0.670</td><td>0.82</td><td>⋯</td><td>2025-06-08T22:23:48.661Z</td><td>12 km WNW of Igalo, Montenegro             </td><td>earthquake</td><td>2.14</td><td> 1.927</td><td>0.123</td><td>18</td><td>reviewed</td><td>us</td><td>us</td></tr>\n",
       "\t<tr><th scope=row>6</th><td>2025-05-20 22:37:03</td><td>45.9604</td><td>11.1350</td><td>11.615</td><td>2.7</td><td>ml </td><td>25</td><td> 79</td><td>0.369</td><td>0.60</td><td>⋯</td><td>2025-05-21T13:40:42.272Z</td><td>2 km NE of Besenello, Italy                </td><td>earthquake</td><td>2.28</td><td> 5.934</td><td>0.057</td><td>40</td><td>reviewed</td><td>us</td><td>us</td></tr>\n",
       "\t<tr><th scope=row>7</th><td>2025-05-13 10:07:45</td><td>40.8277</td><td>14.0646</td><td>10.000</td><td>4.0</td><td>mwr</td><td>65</td><td>105</td><td>0.432</td><td>0.45</td><td>⋯</td><td>2025-06-05T13:58:19.046Z</td><td>3 km SW of Pozzuoli, Italy                 </td><td>earthquake</td><td>5.26</td><td> 1.909</td><td>0.093</td><td>11</td><td>reviewed</td><td>us</td><td>us</td></tr>\n",
       "\t<tr><th scope=row>8</th><td>2025-05-11 11:46:53</td><td>42.9684</td><td>18.6709</td><td>10.000</td><td>4.4</td><td>mb </td><td>47</td><td> 37</td><td>0.692</td><td>0.79</td><td>⋯</td><td>2025-06-13T05:29:08.040Z</td><td>22 km ENE of Bileća, Bosnia and Herzegovina</td><td>earthquake</td><td>4.11</td><td> 1.932</td><td>0.130</td><td>17</td><td>reviewed</td><td>us</td><td>us</td></tr>\n",
       "\t<tr><th scope=row>9</th><td>2025-05-10 04:51:34</td><td>38.0915</td><td>20.3410</td><td>42.571</td><td>4.1</td><td>mb </td><td>36</td><td>119</td><td>1.553</td><td>0.99</td><td>⋯</td><td>2025-05-26T22:31:13.040Z</td><td>14 km SW of Lixoúri, Greece                </td><td>earthquake</td><td>6.39</td><td>10.659</td><td>0.140</td><td>14</td><td>reviewed</td><td>us</td><td>us</td></tr>\n",
       "\t<tr><th scope=row>10</th><td>2025-05-08 01:42:59</td><td>41.8207</td><td>12.7418</td><td> 9.538</td><td>2.7</td><td>ml </td><td>15</td><td>125</td><td>0.146</td><td>1.22</td><td>⋯</td><td>2025-05-11T08:50:31.086Z</td><td>1 km NNE of Montecompatri, Italy           </td><td>earthquake</td><td>2.58</td><td> 6.754</td><td>0.066</td><td>30</td><td>reviewed</td><td>us</td><td>us</td></tr>\n",
       "</tbody>\n",
       "</table>\n"
      ],
      "text/latex": [
       "A data.frame: 10 × 22\n",
       "\\begin{tabular}{r|lllllllllllllllllllll}\n",
       "  & time & latitude & longitude & depth & mag & magType & nst & gap & dmin & rms & ⋯ & updated & place & type & horizontalError & depthError & magError & magNst & status & locationSource & magSource\\\\\n",
       "  & <dttm> & <dbl> & <dbl> & <dbl> & <dbl> & <chr> & <int> & <dbl> & <dbl> & <dbl> & ⋯ & <chr> & <chr> & <chr> & <dbl> & <dbl> & <dbl> & <int> & <chr> & <chr> & <chr>\\\\\n",
       "\\hline\n",
       "\t1 & 2025-06-24 03:04:54 & 41.4136 & 19.5656 & 10.000 & 4.2 & mb  & 41 &  56 & 0.233 & 0.98 & ⋯ & 2025-06-24T08:13:22.962Z & 7 km N of Shijak, Albania                   & earthquake & 4.47 &  1.932 & 0.110 & 23 & reviewed & us & us\\\\\n",
       "\t2 & 2025-06-21 14:56:54 & 38.0214 & 20.2244 & 53.184 & 4.2 & mb  & 20 & 124 & 1.591 & 0.98 & ⋯ & 2025-06-21T15:51:45.040Z & 27 km SW of Lixoúri, Greece                 & earthquake & 2.82 & 12.614 & 0.200 &  9 & reviewed & us & us\\\\\n",
       "\t3 & 2025-06-21 13:25:52 & 37.9115 & 20.1867 & 10.000 & 4.5 & mb  & 41 & 107 & 1.563 & 1.14 & ⋯ & 2025-06-22T11:05:17.735Z & 38 km SW of Lixoúri, Greece                 & earthquake & 6.06 &  1.895 & 0.079 & 47 & reviewed & us & us\\\\\n",
       "\t4 & 2025-06-01 16:44:09 & 43.1747 & 17.9562 & 10.000 & 4.0 & mb  & 49 &  31 & 1.215 & 0.68 & ⋯ & 2025-06-22T16:37:44.040Z & 8 km ENE of Crnići, Bosnia and Herzegovina  & earthquake & 5.05 &  1.931 & 0.150 & 12 & reviewed & us & us\\\\\n",
       "\t5 & 2025-05-22 22:52:00 & 42.5041 & 18.3603 & 10.000 & 4.0 & mb  & 33 &  42 & 0.670 & 0.82 & ⋯ & 2025-06-08T22:23:48.661Z & 12 km WNW of Igalo, Montenegro              & earthquake & 2.14 &  1.927 & 0.123 & 18 & reviewed & us & us\\\\\n",
       "\t6 & 2025-05-20 22:37:03 & 45.9604 & 11.1350 & 11.615 & 2.7 & ml  & 25 &  79 & 0.369 & 0.60 & ⋯ & 2025-05-21T13:40:42.272Z & 2 km NE of Besenello, Italy                 & earthquake & 2.28 &  5.934 & 0.057 & 40 & reviewed & us & us\\\\\n",
       "\t7 & 2025-05-13 10:07:45 & 40.8277 & 14.0646 & 10.000 & 4.0 & mwr & 65 & 105 & 0.432 & 0.45 & ⋯ & 2025-06-05T13:58:19.046Z & 3 km SW of Pozzuoli, Italy                  & earthquake & 5.26 &  1.909 & 0.093 & 11 & reviewed & us & us\\\\\n",
       "\t8 & 2025-05-11 11:46:53 & 42.9684 & 18.6709 & 10.000 & 4.4 & mb  & 47 &  37 & 0.692 & 0.79 & ⋯ & 2025-06-13T05:29:08.040Z & 22 km ENE of Bileća, Bosnia and Herzegovina & earthquake & 4.11 &  1.932 & 0.130 & 17 & reviewed & us & us\\\\\n",
       "\t9 & 2025-05-10 04:51:34 & 38.0915 & 20.3410 & 42.571 & 4.1 & mb  & 36 & 119 & 1.553 & 0.99 & ⋯ & 2025-05-26T22:31:13.040Z & 14 km SW of Lixoúri, Greece                 & earthquake & 6.39 & 10.659 & 0.140 & 14 & reviewed & us & us\\\\\n",
       "\t10 & 2025-05-08 01:42:59 & 41.8207 & 12.7418 &  9.538 & 2.7 & ml  & 15 & 125 & 0.146 & 1.22 & ⋯ & 2025-05-11T08:50:31.086Z & 1 km NNE of Montecompatri, Italy            & earthquake & 2.58 &  6.754 & 0.066 & 30 & reviewed & us & us\\\\\n",
       "\\end{tabular}\n"
      ],
      "text/markdown": [
       "\n",
       "A data.frame: 10 × 22\n",
       "\n",
       "| <!--/--> | time &lt;dttm&gt; | latitude &lt;dbl&gt; | longitude &lt;dbl&gt; | depth &lt;dbl&gt; | mag &lt;dbl&gt; | magType &lt;chr&gt; | nst &lt;int&gt; | gap &lt;dbl&gt; | dmin &lt;dbl&gt; | rms &lt;dbl&gt; | ⋯ ⋯ | updated &lt;chr&gt; | place &lt;chr&gt; | type &lt;chr&gt; | horizontalError &lt;dbl&gt; | depthError &lt;dbl&gt; | magError &lt;dbl&gt; | magNst &lt;int&gt; | status &lt;chr&gt; | locationSource &lt;chr&gt; | magSource &lt;chr&gt; |\n",
       "|---|---|---|---|---|---|---|---|---|---|---|---|---|---|---|---|---|---|---|---|---|---|\n",
       "| 1 | 2025-06-24 03:04:54 | 41.4136 | 19.5656 | 10.000 | 4.2 | mb  | 41 |  56 | 0.233 | 0.98 | ⋯ | 2025-06-24T08:13:22.962Z | 7 km N of Shijak, Albania                   | earthquake | 4.47 |  1.932 | 0.110 | 23 | reviewed | us | us |\n",
       "| 2 | 2025-06-21 14:56:54 | 38.0214 | 20.2244 | 53.184 | 4.2 | mb  | 20 | 124 | 1.591 | 0.98 | ⋯ | 2025-06-21T15:51:45.040Z | 27 km SW of Lixoúri, Greece                 | earthquake | 2.82 | 12.614 | 0.200 |  9 | reviewed | us | us |\n",
       "| 3 | 2025-06-21 13:25:52 | 37.9115 | 20.1867 | 10.000 | 4.5 | mb  | 41 | 107 | 1.563 | 1.14 | ⋯ | 2025-06-22T11:05:17.735Z | 38 km SW of Lixoúri, Greece                 | earthquake | 6.06 |  1.895 | 0.079 | 47 | reviewed | us | us |\n",
       "| 4 | 2025-06-01 16:44:09 | 43.1747 | 17.9562 | 10.000 | 4.0 | mb  | 49 |  31 | 1.215 | 0.68 | ⋯ | 2025-06-22T16:37:44.040Z | 8 km ENE of Crnići, Bosnia and Herzegovina  | earthquake | 5.05 |  1.931 | 0.150 | 12 | reviewed | us | us |\n",
       "| 5 | 2025-05-22 22:52:00 | 42.5041 | 18.3603 | 10.000 | 4.0 | mb  | 33 |  42 | 0.670 | 0.82 | ⋯ | 2025-06-08T22:23:48.661Z | 12 km WNW of Igalo, Montenegro              | earthquake | 2.14 |  1.927 | 0.123 | 18 | reviewed | us | us |\n",
       "| 6 | 2025-05-20 22:37:03 | 45.9604 | 11.1350 | 11.615 | 2.7 | ml  | 25 |  79 | 0.369 | 0.60 | ⋯ | 2025-05-21T13:40:42.272Z | 2 km NE of Besenello, Italy                 | earthquake | 2.28 |  5.934 | 0.057 | 40 | reviewed | us | us |\n",
       "| 7 | 2025-05-13 10:07:45 | 40.8277 | 14.0646 | 10.000 | 4.0 | mwr | 65 | 105 | 0.432 | 0.45 | ⋯ | 2025-06-05T13:58:19.046Z | 3 km SW of Pozzuoli, Italy                  | earthquake | 5.26 |  1.909 | 0.093 | 11 | reviewed | us | us |\n",
       "| 8 | 2025-05-11 11:46:53 | 42.9684 | 18.6709 | 10.000 | 4.4 | mb  | 47 |  37 | 0.692 | 0.79 | ⋯ | 2025-06-13T05:29:08.040Z | 22 km ENE of Bileća, Bosnia and Herzegovina | earthquake | 4.11 |  1.932 | 0.130 | 17 | reviewed | us | us |\n",
       "| 9 | 2025-05-10 04:51:34 | 38.0915 | 20.3410 | 42.571 | 4.1 | mb  | 36 | 119 | 1.553 | 0.99 | ⋯ | 2025-05-26T22:31:13.040Z | 14 km SW of Lixoúri, Greece                 | earthquake | 6.39 | 10.659 | 0.140 | 14 | reviewed | us | us |\n",
       "| 10 | 2025-05-08 01:42:59 | 41.8207 | 12.7418 |  9.538 | 2.7 | ml  | 15 | 125 | 0.146 | 1.22 | ⋯ | 2025-05-11T08:50:31.086Z | 1 km NNE of Montecompatri, Italy            | earthquake | 2.58 |  6.754 | 0.066 | 30 | reviewed | us | us |\n",
       "\n"
      ],
      "text/plain": [
       "   time                latitude longitude depth  mag magType nst gap dmin  rms \n",
       "1  2025-06-24 03:04:54 41.4136  19.5656   10.000 4.2 mb      41   56 0.233 0.98\n",
       "2  2025-06-21 14:56:54 38.0214  20.2244   53.184 4.2 mb      20  124 1.591 0.98\n",
       "3  2025-06-21 13:25:52 37.9115  20.1867   10.000 4.5 mb      41  107 1.563 1.14\n",
       "4  2025-06-01 16:44:09 43.1747  17.9562   10.000 4.0 mb      49   31 1.215 0.68\n",
       "5  2025-05-22 22:52:00 42.5041  18.3603   10.000 4.0 mb      33   42 0.670 0.82\n",
       "6  2025-05-20 22:37:03 45.9604  11.1350   11.615 2.7 ml      25   79 0.369 0.60\n",
       "7  2025-05-13 10:07:45 40.8277  14.0646   10.000 4.0 mwr     65  105 0.432 0.45\n",
       "8  2025-05-11 11:46:53 42.9684  18.6709   10.000 4.4 mb      47   37 0.692 0.79\n",
       "9  2025-05-10 04:51:34 38.0915  20.3410   42.571 4.1 mb      36  119 1.553 0.99\n",
       "10 2025-05-08 01:42:59 41.8207  12.7418    9.538 2.7 ml      15  125 0.146 1.22\n",
       "   ⋯ updated                  place                                      \n",
       "1  ⋯ 2025-06-24T08:13:22.962Z 7 km N of Shijak, Albania                  \n",
       "2  ⋯ 2025-06-21T15:51:45.040Z 27 km SW of Lixoúri, Greece                \n",
       "3  ⋯ 2025-06-22T11:05:17.735Z 38 km SW of Lixoúri, Greece                \n",
       "4  ⋯ 2025-06-22T16:37:44.040Z 8 km ENE of Crnići, Bosnia and Herzegovina \n",
       "5  ⋯ 2025-06-08T22:23:48.661Z 12 km WNW of Igalo, Montenegro             \n",
       "6  ⋯ 2025-05-21T13:40:42.272Z 2 km NE of Besenello, Italy                \n",
       "7  ⋯ 2025-06-05T13:58:19.046Z 3 km SW of Pozzuoli, Italy                 \n",
       "8  ⋯ 2025-06-13T05:29:08.040Z 22 km ENE of Bileća, Bosnia and Herzegovina\n",
       "9  ⋯ 2025-05-26T22:31:13.040Z 14 km SW of Lixoúri, Greece                \n",
       "10 ⋯ 2025-05-11T08:50:31.086Z 1 km NNE of Montecompatri, Italy           \n",
       "   type       horizontalError depthError magError magNst status  \n",
       "1  earthquake 4.47             1.932     0.110    23     reviewed\n",
       "2  earthquake 2.82            12.614     0.200     9     reviewed\n",
       "3  earthquake 6.06             1.895     0.079    47     reviewed\n",
       "4  earthquake 5.05             1.931     0.150    12     reviewed\n",
       "5  earthquake 2.14             1.927     0.123    18     reviewed\n",
       "6  earthquake 2.28             5.934     0.057    40     reviewed\n",
       "7  earthquake 5.26             1.909     0.093    11     reviewed\n",
       "8  earthquake 4.11             1.932     0.130    17     reviewed\n",
       "9  earthquake 6.39            10.659     0.140    14     reviewed\n",
       "10 earthquake 2.58             6.754     0.066    30     reviewed\n",
       "   locationSource magSource\n",
       "1  us             us       \n",
       "2  us             us       \n",
       "3  us             us       \n",
       "4  us             us       \n",
       "5  us             us       \n",
       "6  us             us       \n",
       "7  us             us       \n",
       "8  us             us       \n",
       "9  us             us       \n",
       "10 us             us       "
      ]
     },
     "metadata": {},
     "output_type": "display_data"
    }
   ],
   "source": [
    "head(df,10)"
   ]
  },
  {
   "cell_type": "markdown",
   "id": "f423556f-482c-46fc-b3f8-04b97e7f7e04",
   "metadata": {},
   "source": [
    "### CLEANING"
   ]
  },
  {
   "cell_type": "markdown",
   "id": "cbe8f2e0-495f-4922-875a-6cde65c4d2e7",
   "metadata": {},
   "source": [
    "Not a very good dataset, there are many NA values. In particular many columns are almost useless for this (magError, depthError...).\n",
    "\n",
    "Let's keep only useful columns:"
   ]
  },
  {
   "cell_type": "code",
   "execution_count": 10,
   "id": "62aee2b1-26be-48ac-8b47-f9b3dabf7207",
   "metadata": {},
   "outputs": [],
   "source": [
    "df_cleaned <- df[, c('time', 'latitude', 'longitude', 'depth', 'mag', 'magType', 'id','place', 'locationSource', 'status') ]"
   ]
  },
  {
   "cell_type": "code",
   "execution_count": 11,
   "id": "14338842-4399-495b-b4c8-63de88e592b8",
   "metadata": {},
   "outputs": [
    {
     "name": "stdout",
     "output_type": "stream",
     "text": [
      "Number of NA values in column  1 :  0 \n",
      "Number of NA values in column  2 :  0 \n",
      "Number of NA values in column  3 :  0 \n",
      "Number of NA values in column  4 :  0 \n",
      "Number of NA values in column  5 :  0 \n",
      "Number of NA values in column  6 :  0 \n",
      "Number of NA values in column  7 :  0 \n",
      "Number of NA values in column  8 :  0 \n",
      "Number of NA values in column  9 :  0 \n",
      "Number of NA values in column  10 :  0 \n"
     ]
    }
   ],
   "source": [
    "# check for NA values in selected columns:\n",
    "for (col in 1:length(df_cleaned) ) {\n",
    "    cat(\"Number of NA values in column \", col, \": \", sum(is.na(df_cleaned[1])), \"\\n\")\n",
    "}"
   ]
  },
  {
   "cell_type": "code",
   "execution_count": 12,
   "id": "00ff5df2-63a0-4234-a17f-5687dd0f0147",
   "metadata": {},
   "outputs": [
    {
     "data": {
      "text/html": [
       "<table class=\"dataframe\">\n",
       "<caption>A data.frame: 10 × 10</caption>\n",
       "<thead>\n",
       "\t<tr><th></th><th scope=col>time</th><th scope=col>latitude</th><th scope=col>longitude</th><th scope=col>depth</th><th scope=col>mag</th><th scope=col>magType</th><th scope=col>id</th><th scope=col>place</th><th scope=col>locationSource</th><th scope=col>status</th></tr>\n",
       "\t<tr><th></th><th scope=col>&lt;dttm&gt;</th><th scope=col>&lt;dbl&gt;</th><th scope=col>&lt;dbl&gt;</th><th scope=col>&lt;dbl&gt;</th><th scope=col>&lt;dbl&gt;</th><th scope=col>&lt;chr&gt;</th><th scope=col>&lt;chr&gt;</th><th scope=col>&lt;chr&gt;</th><th scope=col>&lt;chr&gt;</th><th scope=col>&lt;chr&gt;</th></tr>\n",
       "</thead>\n",
       "<tbody>\n",
       "\t<tr><th scope=row>1</th><td>2025-06-24 03:04:54</td><td>41.4136</td><td>19.5656</td><td>10.000</td><td>4.2</td><td>mb </td><td>us7000q8c1</td><td>7 km N of Shijak, Albania                  </td><td>us</td><td>reviewed</td></tr>\n",
       "\t<tr><th scope=row>2</th><td>2025-06-21 14:56:54</td><td>38.0214</td><td>20.2244</td><td>53.184</td><td>4.2</td><td>mb </td><td>us6000qlmp</td><td>27 km SW of Lixoúri, Greece                </td><td>us</td><td>reviewed</td></tr>\n",
       "\t<tr><th scope=row>3</th><td>2025-06-21 13:25:52</td><td>37.9115</td><td>20.1867</td><td>10.000</td><td>4.5</td><td>mb </td><td>us6000qlmf</td><td>38 km SW of Lixoúri, Greece                </td><td>us</td><td>reviewed</td></tr>\n",
       "\t<tr><th scope=row>4</th><td>2025-06-01 16:44:09</td><td>43.1747</td><td>17.9562</td><td>10.000</td><td>4.0</td><td>mb </td><td>us6000qh9w</td><td>8 km ENE of Crnići, Bosnia and Herzegovina </td><td>us</td><td>reviewed</td></tr>\n",
       "\t<tr><th scope=row>5</th><td>2025-05-22 22:52:00</td><td>42.5041</td><td>18.3603</td><td>10.000</td><td>4.0</td><td>mb </td><td>us7000q0z4</td><td>12 km WNW of Igalo, Montenegro             </td><td>us</td><td>reviewed</td></tr>\n",
       "\t<tr><th scope=row>6</th><td>2025-05-20 22:37:03</td><td>45.9604</td><td>11.1350</td><td>11.615</td><td>2.7</td><td>ml </td><td>us7000q0g6</td><td>2 km NE of Besenello, Italy                </td><td>us</td><td>reviewed</td></tr>\n",
       "\t<tr><th scope=row>7</th><td>2025-05-13 10:07:45</td><td>40.8277</td><td>14.0646</td><td>10.000</td><td>4.0</td><td>mwr</td><td>us7000pyym</td><td>3 km SW of Pozzuoli, Italy                 </td><td>us</td><td>reviewed</td></tr>\n",
       "\t<tr><th scope=row>8</th><td>2025-05-11 11:46:53</td><td>42.9684</td><td>18.6709</td><td>10.000</td><td>4.4</td><td>mb </td><td>us7000pyn6</td><td>22 km ENE of Bileća, Bosnia and Herzegovina</td><td>us</td><td>reviewed</td></tr>\n",
       "\t<tr><th scope=row>9</th><td>2025-05-10 04:51:34</td><td>38.0915</td><td>20.3410</td><td>42.571</td><td>4.1</td><td>mb </td><td>us7000q1ju</td><td>14 km SW of Lixoúri, Greece                </td><td>us</td><td>reviewed</td></tr>\n",
       "\t<tr><th scope=row>10</th><td>2025-05-08 01:42:59</td><td>41.8207</td><td>12.7418</td><td> 9.538</td><td>2.7</td><td>ml </td><td>us7000pxxr</td><td>1 km NNE of Montecompatri, Italy           </td><td>us</td><td>reviewed</td></tr>\n",
       "</tbody>\n",
       "</table>\n"
      ],
      "text/latex": [
       "A data.frame: 10 × 10\n",
       "\\begin{tabular}{r|llllllllll}\n",
       "  & time & latitude & longitude & depth & mag & magType & id & place & locationSource & status\\\\\n",
       "  & <dttm> & <dbl> & <dbl> & <dbl> & <dbl> & <chr> & <chr> & <chr> & <chr> & <chr>\\\\\n",
       "\\hline\n",
       "\t1 & 2025-06-24 03:04:54 & 41.4136 & 19.5656 & 10.000 & 4.2 & mb  & us7000q8c1 & 7 km N of Shijak, Albania                   & us & reviewed\\\\\n",
       "\t2 & 2025-06-21 14:56:54 & 38.0214 & 20.2244 & 53.184 & 4.2 & mb  & us6000qlmp & 27 km SW of Lixoúri, Greece                 & us & reviewed\\\\\n",
       "\t3 & 2025-06-21 13:25:52 & 37.9115 & 20.1867 & 10.000 & 4.5 & mb  & us6000qlmf & 38 km SW of Lixoúri, Greece                 & us & reviewed\\\\\n",
       "\t4 & 2025-06-01 16:44:09 & 43.1747 & 17.9562 & 10.000 & 4.0 & mb  & us6000qh9w & 8 km ENE of Crnići, Bosnia and Herzegovina  & us & reviewed\\\\\n",
       "\t5 & 2025-05-22 22:52:00 & 42.5041 & 18.3603 & 10.000 & 4.0 & mb  & us7000q0z4 & 12 km WNW of Igalo, Montenegro              & us & reviewed\\\\\n",
       "\t6 & 2025-05-20 22:37:03 & 45.9604 & 11.1350 & 11.615 & 2.7 & ml  & us7000q0g6 & 2 km NE of Besenello, Italy                 & us & reviewed\\\\\n",
       "\t7 & 2025-05-13 10:07:45 & 40.8277 & 14.0646 & 10.000 & 4.0 & mwr & us7000pyym & 3 km SW of Pozzuoli, Italy                  & us & reviewed\\\\\n",
       "\t8 & 2025-05-11 11:46:53 & 42.9684 & 18.6709 & 10.000 & 4.4 & mb  & us7000pyn6 & 22 km ENE of Bileća, Bosnia and Herzegovina & us & reviewed\\\\\n",
       "\t9 & 2025-05-10 04:51:34 & 38.0915 & 20.3410 & 42.571 & 4.1 & mb  & us7000q1ju & 14 km SW of Lixoúri, Greece                 & us & reviewed\\\\\n",
       "\t10 & 2025-05-08 01:42:59 & 41.8207 & 12.7418 &  9.538 & 2.7 & ml  & us7000pxxr & 1 km NNE of Montecompatri, Italy            & us & reviewed\\\\\n",
       "\\end{tabular}\n"
      ],
      "text/markdown": [
       "\n",
       "A data.frame: 10 × 10\n",
       "\n",
       "| <!--/--> | time &lt;dttm&gt; | latitude &lt;dbl&gt; | longitude &lt;dbl&gt; | depth &lt;dbl&gt; | mag &lt;dbl&gt; | magType &lt;chr&gt; | id &lt;chr&gt; | place &lt;chr&gt; | locationSource &lt;chr&gt; | status &lt;chr&gt; |\n",
       "|---|---|---|---|---|---|---|---|---|---|---|\n",
       "| 1 | 2025-06-24 03:04:54 | 41.4136 | 19.5656 | 10.000 | 4.2 | mb  | us7000q8c1 | 7 km N of Shijak, Albania                   | us | reviewed |\n",
       "| 2 | 2025-06-21 14:56:54 | 38.0214 | 20.2244 | 53.184 | 4.2 | mb  | us6000qlmp | 27 km SW of Lixoúri, Greece                 | us | reviewed |\n",
       "| 3 | 2025-06-21 13:25:52 | 37.9115 | 20.1867 | 10.000 | 4.5 | mb  | us6000qlmf | 38 km SW of Lixoúri, Greece                 | us | reviewed |\n",
       "| 4 | 2025-06-01 16:44:09 | 43.1747 | 17.9562 | 10.000 | 4.0 | mb  | us6000qh9w | 8 km ENE of Crnići, Bosnia and Herzegovina  | us | reviewed |\n",
       "| 5 | 2025-05-22 22:52:00 | 42.5041 | 18.3603 | 10.000 | 4.0 | mb  | us7000q0z4 | 12 km WNW of Igalo, Montenegro              | us | reviewed |\n",
       "| 6 | 2025-05-20 22:37:03 | 45.9604 | 11.1350 | 11.615 | 2.7 | ml  | us7000q0g6 | 2 km NE of Besenello, Italy                 | us | reviewed |\n",
       "| 7 | 2025-05-13 10:07:45 | 40.8277 | 14.0646 | 10.000 | 4.0 | mwr | us7000pyym | 3 km SW of Pozzuoli, Italy                  | us | reviewed |\n",
       "| 8 | 2025-05-11 11:46:53 | 42.9684 | 18.6709 | 10.000 | 4.4 | mb  | us7000pyn6 | 22 km ENE of Bileća, Bosnia and Herzegovina | us | reviewed |\n",
       "| 9 | 2025-05-10 04:51:34 | 38.0915 | 20.3410 | 42.571 | 4.1 | mb  | us7000q1ju | 14 km SW of Lixoúri, Greece                 | us | reviewed |\n",
       "| 10 | 2025-05-08 01:42:59 | 41.8207 | 12.7418 |  9.538 | 2.7 | ml  | us7000pxxr | 1 km NNE of Montecompatri, Italy            | us | reviewed |\n",
       "\n"
      ],
      "text/plain": [
       "   time                latitude longitude depth  mag magType id        \n",
       "1  2025-06-24 03:04:54 41.4136  19.5656   10.000 4.2 mb      us7000q8c1\n",
       "2  2025-06-21 14:56:54 38.0214  20.2244   53.184 4.2 mb      us6000qlmp\n",
       "3  2025-06-21 13:25:52 37.9115  20.1867   10.000 4.5 mb      us6000qlmf\n",
       "4  2025-06-01 16:44:09 43.1747  17.9562   10.000 4.0 mb      us6000qh9w\n",
       "5  2025-05-22 22:52:00 42.5041  18.3603   10.000 4.0 mb      us7000q0z4\n",
       "6  2025-05-20 22:37:03 45.9604  11.1350   11.615 2.7 ml      us7000q0g6\n",
       "7  2025-05-13 10:07:45 40.8277  14.0646   10.000 4.0 mwr     us7000pyym\n",
       "8  2025-05-11 11:46:53 42.9684  18.6709   10.000 4.4 mb      us7000pyn6\n",
       "9  2025-05-10 04:51:34 38.0915  20.3410   42.571 4.1 mb      us7000q1ju\n",
       "10 2025-05-08 01:42:59 41.8207  12.7418    9.538 2.7 ml      us7000pxxr\n",
       "   place                                       locationSource status  \n",
       "1  7 km N of Shijak, Albania                   us             reviewed\n",
       "2  27 km SW of Lixoúri, Greece                 us             reviewed\n",
       "3  38 km SW of Lixoúri, Greece                 us             reviewed\n",
       "4  8 km ENE of Crnići, Bosnia and Herzegovina  us             reviewed\n",
       "5  12 km WNW of Igalo, Montenegro              us             reviewed\n",
       "6  2 km NE of Besenello, Italy                 us             reviewed\n",
       "7  3 km SW of Pozzuoli, Italy                  us             reviewed\n",
       "8  22 km ENE of Bileća, Bosnia and Herzegovina us             reviewed\n",
       "9  14 km SW of Lixoúri, Greece                 us             reviewed\n",
       "10 1 km NNE of Montecompatri, Italy            us             reviewed"
      ]
     },
     "metadata": {},
     "output_type": "display_data"
    }
   ],
   "source": [
    "head(df_cleaned,10)"
   ]
  },
  {
   "cell_type": "markdown",
   "id": "c464edd1-dff0-4518-8cf0-5c8acbe907ae",
   "metadata": {},
   "source": [
    "---"
   ]
  },
  {
   "cell_type": "markdown",
   "id": "07dc0364-f0c8-4868-a880-8b2203c4bc4e",
   "metadata": {},
   "source": [
    "## Sismic map based on the Gutember-Richter law"
   ]
  },
  {
   "cell_type": "code",
   "execution_count": null,
   "id": "bea73b04-0255-4add-b9b5-4ceeb1584ff1",
   "metadata": {},
   "outputs": [],
   "source": []
  }
 ],
 "metadata": {
  "kernelspec": {
   "display_name": "R",
   "language": "R",
   "name": "ir"
  },
  "language_info": {
   "codemirror_mode": "r",
   "file_extension": ".r",
   "mimetype": "text/x-r-source",
   "name": "R",
   "pygments_lexer": "r",
   "version": "4.4.1"
  }
 },
 "nbformat": 4,
 "nbformat_minor": 5
}
