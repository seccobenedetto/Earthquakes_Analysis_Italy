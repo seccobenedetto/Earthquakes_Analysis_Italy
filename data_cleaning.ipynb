{
 "cells": [
  {
   "cell_type": "markdown",
   "id": "75a7d850-21c2-4375-94a7-ed9d33912c12",
   "metadata": {},
   "source": [
    "<center><h1><b>PROJECT</b></h1></center>"
   ]
  },
  {
   "cell_type": "code",
   "execution_count": 1,
   "id": "d1a28626-0eb4-4360-b0eb-bb8497d6084c",
   "metadata": {},
   "outputs": [
    {
     "name": "stderr",
     "output_type": "stream",
     "text": [
      "Warning message:\n",
      "“il pacchetto ‘ggplot2’ è stato creato con R versione 4.4.3”\n"
     ]
    }
   ],
   "source": [
    "library(ggplot2)"
   ]
  },
  {
   "cell_type": "markdown",
   "id": "a32f93b4-0428-4a40-bfaa-e22cc56ea031",
   "metadata": {},
   "source": [
    "---"
   ]
  },
  {
   "cell_type": "markdown",
   "id": "d218a420-89a3-4505-9127-dd482538ff0f",
   "metadata": {},
   "source": [
    "## GUTHENBERG-RICHTER LAW \n",
    "(see wikipedia for more)  \n",
    "In seismology, the Gutenberg–Richter law[1] (GR law) expresses the relationship between the magnitude and total number of earthquakes in any given region and time period of at least that magnitude.\n",
    "$$ log_{10} ⁡ N = a − b \\cdot M $$\n",
    "\n",
    "where N is the number of events having a magnitude ≥ M, a and b are constants, i.e. they are the same for all values of N and M.\n",
    "This relationship between event magnitude and frequency of occurrence is remarkably common, although the values of a and b may vary significantly from region to region or over time.   \n",
    "Some generalization of this formula have been made.\n",
    "\n",
    "#### PARAMETER b\n",
    "The parameter b (commonly referred to as the \"b-value\") is commonly close to 1.0 in seismically active regions. This means that for a given frequency of magnitude 4.0 or larger events there will be 10 times as many magnitude 3.0 or larger quakes and 100 times as many magnitude 2.0 or larger quakes. There is some variation of b-values in the approximate range of 0.5 to 2 depending on the source environment of the region.[5] A notable example of this is during earthquake swarms when b can become as high as 2.5, thus indicating a very high proportion of small earthquakes to large ones. An earthquake swarm is a sequence of seismic events occurring in a local area within a relatively short period. The time span used to define a swarm varies, but may be days, months, or years. Such an energy release is different from the situation when a major earthquake (main shock) is followed by a series of aftershocks: in earthquake swarms, no single earthquake in the sequence is obviously the main shock. In particular, a cluster of aftershocks occurring after a mainshock is not a swarm. The b-value decrease observed prior to the failure of samples deformed in the laboratory[10] has led to the suggestion that this is a precursor to major macro-failure. Alternatively, a b-value significantly different from 1.0 may suggest a problem with the data set; e.g. it is incomplete or contains errors in calculating magnitude. \n",
    "\n",
    "#### PARAMETER a\n",
    "The a-value represents the total seismicity rate of the region. This is more easily seen when the GR law is expressed in terms of the total number of events: \n",
    "$$ N = N_{TOT} \\cdot 10^{-bM} $$ \n",
    "with $N_{TOT} = 10^{a}$ the total number of events (above M=0). Since $10^{a}$ is the total number of events, $10^{-bM}$ must be the probability of those events. \n",
    "\n",
    "#### OTHER MODELS\n",
    "The basic model is the Gutenberg Richter\n",
    "(GR) model that states the frequency’s logarithm is linearly\n",
    "dependent on the magnitude. However, Dargahi-Noubary\n",
    "(1986) and Kagan (1993) suggest that more suitable sta-\n",
    "tistical models should be used instead of the GR model for\n",
    "the distribution with high magnitudes. Petersen et al. (2007)\n",
    "proposed a time-independent model showing that the prob-\n",
    "ability of earthquake occurrence follows the Poisson dis-\n",
    "tribution. Considering the time of earthquakes, stochastic\n",
    "processes, especially Poisson processes, have also been used\n",
    "to predict the number of earthquakes. However, the Poisson\n",
    "model cannot be sufficient since it has an exponential recur-\n",
    "rence time distribution and a constant hazard function. This\n",
    "assumes that the probability of observing an earthquake at\n",
    "any given time is independent of both elapsed time since\n",
    "the last earthquake and its severity. This assumption leads\n",
    "only to time-independent seismic hazard estimates. Besides,\n",
    "earthquakes are clustered in time and space and their distri-\n",
    "bution is over-dispersed compared to the Poisson law. [5]\n",
    "\n",
    "In recent times, taking into account the seasonality and\n",
    "trends of earthquakes, the prediction of the size or mag-\n",
    "nitude has been performed in a few studies by time series\n",
    "models such as Auto-Regressive Integrated Moving Aver-\n",
    "age (ARIMA) and generalized autoregressive conditional\n",
    "heteroskedasticity (GARCH).\n",
    "\n",
    "a NEW BETTER MODEL IS The SSA is a nonparametric\n",
    "novel and powerful time series analysis technique incorpo-\n",
    "rating classical time series analysis, multivariate statistics,\n",
    "multivariate geometry, dynamical systems, and signal pro-\n",
    "cessing. This new method can be useful for the prediction of\n",
    "the earthquake magnitude in a seismic region.\n",
    "\n",
    "#### ARIMA MODEL\n",
    "ARIMA, also known as Box-Jenkins models, is divided into\n",
    "seasonal and non-seasonal models. Non-seasonal Box-Jenkins\n",
    "models are generally shown as ARIMA (p, d, q), where\n",
    "p is the parameter of the autoregression (AR) model, d is\n",
    "the number of difference procedure, and q is the parameter\n",
    "of the moving average (MA) model. To perform the analysis processes of the Box-Jenkins\n",
    "method, first, care should be taken to ensure that the series\n",
    "is free of trend and seasonal fluctuations, that is, the series\n",
    "should be stationary. Then, determine the p and q param-\n",
    "eters depending on the autocorrelation function and the par-\n",
    "tial autocorrelation function graphs and control the model \n",
    "parameters’ significance. Lastly, the root mean square error\n",
    "criterion (RMSE) is used to selects the best model among\n",
    "the models having the white noise error series"
   ]
  },
  {
   "cell_type": "markdown",
   "id": "7c3fd635-167f-4a0d-9506-db0f2c63ad1f",
   "metadata": {},
   "source": [
    "---"
   ]
  },
  {
   "cell_type": "markdown",
   "id": "0d1e67d9-633f-4e11-8361-d4eeed36105b",
   "metadata": {},
   "source": [
    "## LOADING AND CLEANING DATA DATA\n",
    "We took the data from https://earthquake.usgs.gov/ in two parts because there was a limit in the download size."
   ]
  },
  {
   "cell_type": "code",
   "execution_count": 2,
   "id": "beaa3fac-44cf-4921-8882-3a1d5fa2d41e",
   "metadata": {},
   "outputs": [
    {
     "name": "stdout",
     "output_type": "stream",
     "text": [
      "The 1st database has  13988  rows \n",
      "The 2nd database has  14850  rows \n",
      "The final database has  28838  rows \n"
     ]
    }
   ],
   "source": [
    "df1 = read.table(\"./data/earthquakes_years_2000_2025.csv\", header=TRUE, sep=',')\n",
    "df2 = read.table(\"./data/earthquakes_years_1925_2000.csv\", header=TRUE, sep=',')\n",
    "cat(\"The 1st database has \", nrow(df1), \" rows\", \"\\n\")\n",
    "cat(\"The 2nd database has \", nrow(df2), \" rows\", \"\\n\")\n",
    "df = rbind(df1, df2)\n",
    "cat(\"The final database has \", nrow(df), \" rows\", \"\\n\")"
   ]
  },
  {
   "cell_type": "markdown",
   "id": "f29b8e6a-8ce7-4ebe-bf35-b61bd59e24e7",
   "metadata": {},
   "source": [
    "Meaning of the less obvious comlumns:\n",
    "* depth: Depth of the earthquake in kilometers (km).\n",
    "* mag: Magnitude of the earthquake\n",
    "* magType: Type of magnitude used. (maybe we should confront only earthquake with same magtype?)\n",
    "* nst: Number of seismic stations that reported the event.\n",
    "* gap: Largest azimuthal gap in station coverage (degrees).\n",
    "* dmin: Distance to the nearest station (in degrees).\n",
    "* rms: Root mean square of the travel time residuals (in seconds).\n",
    "* net: Network that detected the event (e.g., us, ci, hv). It identifies the organization or seismic network responsible.\n",
    "* id: The unique identifier for the earthquake event. It’s usually a string combining the net code and a unique event code.\n",
    "* updated: Time the event information was last updated.\n",
    "* place: Human-readable location (e.g., \"10km SE of Town X\").\n",
    "* type: Type of seismic event (earthquake, quarry blast, etc.). But I only downloaded earthquakes so this column should be useless.\n",
    "* horizontalError: Horizontal location error (in km or m).\n",
    "* depthError: Error estimate for the depth (in km).\n",
    "* magError: Error estimate for the magnitude.\n",
    "* magNst: Number of stations used for magnitude calculation.\n",
    "* status: Review status of the event (reviewed, automatic). It means whether the data has been automatically generated or manually reviewed by a seismologist.\n",
    "* locationSource: Agency that determined the location.\n",
    "* magSource: Agency that determined the magnitude."
   ]
  },
  {
   "cell_type": "markdown",
   "id": "d9a9b737-bb5f-43a1-8bf8-b7effcab8bc4",
   "metadata": {},
   "source": [
    "Convert the time column to Date format:"
   ]
  },
  {
   "cell_type": "code",
   "execution_count": 3,
   "id": "1086bc75-01ba-4664-9546-d829621c249e",
   "metadata": {},
   "outputs": [],
   "source": [
    "df$time <- as.POSIXct(df$time, format = \"%Y-%m-%dT%H:%M:%OSZ\", tz = \"UTC\")"
   ]
  },
  {
   "cell_type": "code",
   "execution_count": 4,
   "id": "cc284c2a-4649-4955-8265-03bda9555c80",
   "metadata": {},
   "outputs": [
    {
     "data": {
      "text/plain": [
       "      time                            latitude       longitude    \n",
       " Min.   :1925-02-07 12:14:58.150   Min.   :35.61   Min.   : 4.66  \n",
       " 1st Qu.:1990-07-11 12:17:33.473   1st Qu.:39.37   1st Qu.:10.98  \n",
       " Median :1999-06-07 03:23:02.495   Median :42.74   Median :15.27  \n",
       " Mean   :1997-09-22 00:29:15.603   Mean   :42.17   Mean   :14.92  \n",
       " 3rd Qu.:2004-10-01 01:05:55.349   3rd Qu.:44.44   3rd Qu.:20.01  \n",
       " Max.   :2025-06-24 03:04:54.730   Max.   :47.76   Max.   :20.87  \n",
       "                                                                  \n",
       "     depth             mag          magType               nst        \n",
       " Min.   : -2.00   Min.   :2.500   Length:28838       Min.   :  0.00  \n",
       " 1st Qu.:  8.60   1st Qu.:2.700   Class :character   1st Qu.:  7.00  \n",
       " Median : 10.00   Median :3.100   Mode  :character   Median : 14.00  \n",
       " Mean   : 15.02   Mean   :3.284                      Mean   : 30.35  \n",
       " 3rd Qu.: 10.00   3rd Qu.:3.600                      3rd Qu.: 35.00  \n",
       " Max.   :522.00   Max.   :7.000                      Max.   :729.00  \n",
       "                                                     NA's   :16493   \n",
       "      gap             dmin            rms            net           \n",
       " Min.   :  6.5   Min.   :0.014   Min.   :0.000   Length:28838      \n",
       " 1st Qu.: 73.0   1st Qu.:0.571   1st Qu.:0.760   Class :character  \n",
       " Median :127.5   Median :1.003   Median :1.000   Mode  :character  \n",
       " Mean   :132.8   Mean   :1.135   Mean   :0.969                     \n",
       " 3rd Qu.:179.8   3rd Qu.:1.586   3rd Qu.:1.200                     \n",
       " Max.   :349.4   Max.   :5.416   Max.   :2.400                     \n",
       " NA's   :18768   NA's   :27565   NA's   :12776                     \n",
       "      id              updated             place               type          \n",
       " Length:28838       Length:28838       Length:28838       Length:28838      \n",
       " Class :character   Class :character   Class :character   Class :character  \n",
       " Mode  :character   Mode  :character   Mode  :character   Mode  :character  \n",
       "                                                                            \n",
       "                                                                            \n",
       "                                                                            \n",
       "                                                                            \n",
       " horizontalError    depthError        magError         magNst      \n",
       " Min.   : 0.000   Min.   : 0.000   Min.   :0.032   Min.   :  1.00  \n",
       " 1st Qu.: 4.000   1st Qu.: 2.000   1st Qu.:0.083   1st Qu.:  2.00  \n",
       " Median : 4.900   Median : 3.600   Median :0.153   Median :  6.00  \n",
       " Mean   : 4.934   Mean   : 4.398   Mean   :0.163   Mean   : 13.95  \n",
       " 3rd Qu.: 5.800   3rd Qu.: 5.600   3rd Qu.:0.202   3rd Qu.: 17.00  \n",
       " Max.   :15.200   Max.   :44.500   Max.   :0.790   Max.   :285.00  \n",
       " NA's   :27512    NA's   :24877    NA's   :27119   NA's   :24603   \n",
       "    status          locationSource      magSource        \n",
       " Length:28838       Length:28838       Length:28838      \n",
       " Class :character   Class :character   Class :character  \n",
       " Mode  :character   Mode  :character   Mode  :character  \n",
       "                                                         \n",
       "                                                         \n",
       "                                                         \n",
       "                                                         "
      ]
     },
     "metadata": {},
     "output_type": "display_data"
    }
   ],
   "source": [
    "summary(df)"
   ]
  },
  {
   "cell_type": "markdown",
   "id": "f423556f-482c-46fc-b3f8-04b97e7f7e04",
   "metadata": {},
   "source": [
    "### CLEANING"
   ]
  },
  {
   "cell_type": "markdown",
   "id": "cbe8f2e0-495f-4922-875a-6cde65c4d2e7",
   "metadata": {},
   "source": [
    "Not a very good dataset, there are many NA values. In particular many columns are almost useless for this (magError, depthError...).\n",
    "\n",
    "Let's keep only useful columns:"
   ]
  },
  {
   "cell_type": "code",
   "execution_count": 5,
   "id": "62aee2b1-26be-48ac-8b47-f9b3dabf7207",
   "metadata": {},
   "outputs": [],
   "source": [
    "df_cleaned <- df[, c('time', 'latitude', 'longitude', 'depth', 'mag', 'magType', 'id','place','status') ]"
   ]
  },
  {
   "cell_type": "code",
   "execution_count": 6,
   "id": "14338842-4399-495b-b4c8-63de88e592b8",
   "metadata": {},
   "outputs": [
    {
     "name": "stdout",
     "output_type": "stream",
     "text": [
      "Number of NA values in column  1 :  0 \n",
      "Number of NA values in column  2 :  0 \n",
      "Number of NA values in column  3 :  0 \n",
      "Number of NA values in column  4 :  0 \n",
      "Number of NA values in column  5 :  0 \n",
      "Number of NA values in column  6 :  0 \n",
      "Number of NA values in column  7 :  0 \n",
      "Number of NA values in column  8 :  0 \n",
      "Number of NA values in column  9 :  0 \n"
     ]
    }
   ],
   "source": [
    "# check for NA values in selected columns:\n",
    "for (col in 1:length(df_cleaned) ) {\n",
    "    cat(\"Number of NA values in column \", col, \": \", sum(is.na(df_cleaned[1])), \"\\n\")\n",
    "}"
   ]
  },
  {
   "cell_type": "markdown",
   "id": "c464edd1-dff0-4518-8cf0-5c8acbe907ae",
   "metadata": {},
   "source": [
    "---"
   ]
  },
  {
   "cell_type": "code",
   "execution_count": null,
   "id": "0dec7109-5690-4861-ba43-5427a3b649e8",
   "metadata": {},
   "outputs": [],
   "source": []
  },
  {
   "cell_type": "code",
   "execution_count": null,
   "id": "bea73b04-0255-4add-b9b5-4ceeb1584ff1",
   "metadata": {},
   "outputs": [],
   "source": []
  }
 ],
 "metadata": {
  "kernelspec": {
   "display_name": "R",
   "language": "R",
   "name": "ir"
  },
  "language_info": {
   "codemirror_mode": "r",
   "file_extension": ".r",
   "mimetype": "text/x-r-source",
   "name": "R",
   "pygments_lexer": "r",
   "version": "4.4.1"
  }
 },
 "nbformat": 4,
 "nbformat_minor": 5
}
